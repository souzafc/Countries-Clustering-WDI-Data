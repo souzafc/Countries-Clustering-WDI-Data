{
    "cells": [
        {
            "cell_type": "markdown",
            "metadata": {},
            "source": "World Development Indicators - worldbank.org <br/>\nFabio Cardoso - Dec/2021 <br/><br/>\n\nDatasets: <br/><br/>\n\nCountry Indicators: <br/>\nhttps://datacatalog.worldbank.org/search/dataset/0037712/World-Development-Indicators <br/>\nNote: dataset updated with the topics presented in https://data.worldbank.org/indicator?tab=all - Utils notebook. <br/><br/>\n\nCountry Codes ISO 3166: <br/>\nhttps://www.iban.com/country-codes <br/><br/>\n\nNote: <br/>\nFor some orphans indicators, the topic 'private-sector' was assumed - Utils notebook. <br/>\n. Firms visited or required meetings with tax officials (% of firms) <br/>\n. Net ODA provided to the least developed countries (% of GNI) <br/>\n. Net ODA provided, to the least developed countries (current US )\u2212\ud835\udc41\ud835\udc52\ud835\udc61\ud835\udc42\ud835\udc37\ud835\udc34\ud835\udc5d\ud835\udc5f\ud835\udc5c\ud835\udc63\ud835\udc56\ud835\udc51\ud835\udc52\ud835\udc51,\ud835\udc61\ud835\udc5c\ud835\udc61\ud835\udc4e\ud835\udc59(\u2212\ud835\udc41\ud835\udc52\ud835\udc61\ud835\udc42\ud835\udc37\ud835\udc34\ud835\udc5d\ud835\udc5f\ud835\udc5c\ud835\udc63\ud835\udc56\ud835\udc51\ud835\udc52\ud835\udc51,\ud835\udc61\ud835\udc5c\ud835\udc61\ud835\udc4e\ud835\udc59(\ud835\udc50\ud835\udc5c\ud835\udc5b\ud835\udc60\ud835\udc61\ud835\udc4e\ud835\udc5b\ud835\udc612015\ud835\udc48\ud835\udc46) <br/>\n. Net ODA provided, total (current US$)"
        },
        {
            "cell_type": "code",
            "execution_count": 1,
            "metadata": {},
            "outputs": [],
            "source": "# Parameters\n\ncloud = True"
        },
        {
            "cell_type": "code",
            "execution_count": 2,
            "metadata": {},
            "outputs": [],
            "source": "# Imports\n\nimport pandas as pd\nimport numpy as np\nimport zipfile\nimport matplotlib.pyplot as plt\nimport zlib\nimport pickle\nfrom threading import Thread\nfrom multiprocessing import Pool\nimport time\nfrom datetime import datetime\nfrom sklearn.preprocessing import MinMaxScaler\nfrom sklearn.cluster import KMeans\n\n!pip install pyreadstat\nimport pyreadstat"
        },
        {
            "cell_type": "code",
            "execution_count": null,
            "metadata": {},
            "outputs": [],
            "source": "# The code was removed by Watson Studio for sharing."
        },
        {
            "cell_type": "code",
            "execution_count": 4,
            "metadata": {},
            "outputs": [],
            "source": "# Storage instantiation\n\nif cloud:\n    import types\n    import pandas as pd\n    import ibm_boto3\n    from botocore.client import Config\n\n    def __iter__(self): return 0\n\n    cnx_fcsinsights = ibm_boto3.client(\n        service_name = 's3',\n        ibm_api_key_id = parm_ibm_api_key_id,\n        ibm_service_instance_id = parm_ibm_service_instance_id,\n        ibm_auth_endpoint = parm_ibm_auth_endpoint,\n        config = Config(signature_version='oauth'),\n        endpoint_url = parm_endpoint_url\n    )\n\nbkt_in = parm_bkt_in\nbkt_out = parm_bkt_out\n\nkey_in = 'WDI treated-step4.csv.gz'\nkey_out = 'WDI treated-step5-general.sav'"
        },
        {
            "cell_type": "code",
            "execution_count": 5,
            "metadata": {},
            "outputs": [],
            "source": "# Read data\n\nif cloud:\n    cnx_fcsinsights.download_file(Bucket=bkt_in, Key=key_in, Filename=key_in)\n    df = pd.read_csv(key_in, compression='gzip')\nelse:\n    df = pd.read_csv('F:/WDI Working Files/'+key_in, compression='gzip')"
        },
        {
            "cell_type": "code",
            "execution_count": 6,
            "metadata": {},
            "outputs": [],
            "source": "# Two-way\n\ndf['Indicator_Year'] = df[['Indicator Code','Year']].apply(lambda r: r['Indicator Code'] + '_' + str(r['Year']), axis=1)"
        },
        {
            "cell_type": "code",
            "execution_count": 7,
            "metadata": {},
            "outputs": [],
            "source": "# Pivoteando\n\ndf = df.pivot_table(index='Country Code', columns='Indicator_Year', values='Value')"
        },
        {
            "cell_type": "code",
            "execution_count": 8,
            "metadata": {
                "scrolled": false
            },
            "outputs": [],
            "source": "# Neither all countries have all indicator series. We adopt -1 for null values in a way contries with few series stay close each other in the clustering processing.\n\ndf.replace(np.nan, -1, inplace=True)"
        },
        {
            "cell_type": "code",
            "execution_count": 9,
            "metadata": {},
            "outputs": [],
            "source": "# Remove spaces from column names\n# Note: Pyreadstat does not save index\n\ndf.reset_index(inplace=True)\n\ndef remove_space_from_cols_names(df):\n    rens = dict()\n    for col in df.columns:\n        if col.find(\" \"):\n            col2 = col.replace(\" \", \"_\")\n            rens.update({col:col2})\n    return df.rename(columns=rens)\n\ndf = remove_space_from_cols_names(df)"
        },
        {
            "cell_type": "code",
            "execution_count": 10,
            "metadata": {},
            "outputs": [],
            "source": "# Save intermediate result\n\nif cloud:\n    pyreadstat.write_sav(df, key_out)\n    cnx_fcsinsights.upload_file(Bucket=bkt_out, Key=key_out, Filename=key_out)\nelse:\n    pyreadstat.write_sav(df, 'F:/WDI Working Files/'+key_out)"
        },
        {
            "cell_type": "code",
            "execution_count": 11,
            "metadata": {},
            "outputs": [
                {
                    "name": "stdout",
                    "output_type": "stream",
                    "text": "ok\n"
                }
            ],
            "source": "print('ok')"
        }
    ],
    "metadata": {
        "kernelspec": {
            "display_name": "Python 3.9",
            "language": "python",
            "name": "python3"
        },
        "language_info": {
            "codemirror_mode": {
                "name": "ipython",
                "version": 3
            },
            "file_extension": ".py",
            "mimetype": "text/x-python",
            "name": "python",
            "nbconvert_exporter": "python",
            "pygments_lexer": "ipython3",
            "version": "3.9.7"
        }
    },
    "nbformat": 4,
    "nbformat_minor": 1
}