{
    "cells": [
        {
            "cell_type": "markdown",
            "metadata": {},
            "source": "World Development Indicators - worldbank.org <br/>\nFabio Cardoso - Dec/2021 <br/><br/>\n\nDatasets: <br/><br/>\n\nCountry Indicators: <br/>\nhttps://datacatalog.worldbank.org/search/dataset/0037712/World-Development-Indicators <br/>\nNote: dataset updated with the topics presented in https://data.worldbank.org/indicator?tab=all - Utils notebook. <br/><br/>\n\nCountry Codes ISO 3166: <br/>\nhttps://www.iban.com/country-codes <br/><br/>\n\nNote: <br/>\nFor some orphans indicators, the topic 'private-sector' was assumed - Utils notebook. <br/>\n. Firms visited or required meetings with tax officials (% of firms) <br/>\n. Net ODA provided to the least developed countries (% of GNI) <br/>\n. Net ODA provided, to the least developed countries (current US )\u2212\ud835\udc41\ud835\udc52\ud835\udc61\ud835\udc42\ud835\udc37\ud835\udc34\ud835\udc5d\ud835\udc5f\ud835\udc5c\ud835\udc63\ud835\udc56\ud835\udc51\ud835\udc52\ud835\udc51,\ud835\udc61\ud835\udc5c\ud835\udc61\ud835\udc4e\ud835\udc59(\u2212\ud835\udc41\ud835\udc52\ud835\udc61\ud835\udc42\ud835\udc37\ud835\udc34\ud835\udc5d\ud835\udc5f\ud835\udc5c\ud835\udc63\ud835\udc56\ud835\udc51\ud835\udc52\ud835\udc51,\ud835\udc61\ud835\udc5c\ud835\udc61\ud835\udc4e\ud835\udc59(\ud835\udc50\ud835\udc5c\ud835\udc5b\ud835\udc60\ud835\udc61\ud835\udc4e\ud835\udc5b\ud835\udc612015\ud835\udc48\ud835\udc46) <br/>\n. Net ODA provided, total (current US$)"
        },
        {
            "cell_type": "code",
            "execution_count": 1,
            "metadata": {},
            "outputs": [],
            "source": "# Parameters\n\ncloud = False"
        },
        {
            "cell_type": "code",
            "execution_count": 2,
            "metadata": {},
            "outputs": [],
            "source": "# Imports\n\nimport pandas as pd\nimport numpy as np\n#import psycopg2\nimport zipfile\nimport matplotlib.pyplot as plt\nimport zlib\nimport pickle\nfrom threading import Thread\nfrom multiprocessing import Pool\nimport time\nfrom datetime import datetime\nimport os\n\n!pip install pyreadstat\nimport pyreadstat\n\n!pip install unidecode\nimport unidecode"
        },
        {
            "cell_type": "code",
            "execution_count": null,
            "metadata": {},
            "outputs": [],
            "source": "# The code was removed by Watson Studio for sharing."
        },
        {
            "cell_type": "code",
            "execution_count": 3,
            "metadata": {},
            "outputs": [],
            "source": "# Storage instantiation\n\nif cloud:\n    import types\n    import pandas as pd\n    import ibm_boto3\n    from botocore.client import Config\n\n    def __iter__(self): return 0\n\n    cnx_fcsinsights = ibm_boto3.client(\n        service_name = 's3',\n        ibm_api_key_id = parm_ibm_api_key_id,\n        ibm_service_instance_id = parm_ibm_service_instance_id,\n        ibm_auth_endpoint = parm_ibm_auth_endpoint,\n        config = Config(signature_version='oauth'),\n        endpoint_url = parm_endpoint_url\n    )\n\nbkt_in = parm_bkt_in\nbkt_out = parm_bkt_out\n\nkey_in = 'WDI-treated-step5.csv.gz'\nkey_out = 'WDI-treated-step5.sav'"
        },
        {
            "cell_type": "code",
            "execution_count": null,
            "metadata": {},
            "outputs": [],
            "source": "# Read data\n\nif cloud:\n    cnx_fcsinsights.download_file(Bucket=bkt_in, Key=key_in, Filename=key_in)\n    df = pd.read_csv(key_in, compression='gzip')\nelse:\n    df = pd.read_csv('F:/WDI Working Files/'+key_in, compression='gzip')"
        },
        {
            "cell_type": "code",
            "execution_count": null,
            "metadata": {},
            "outputs": [],
            "source": "#saving to sav\n\ni=0\ncols = df.columns\nfor col in cols:\n    i+=1\n    if i%25==0:\n        print(i,end='\\r')\n    colx = col.replace(' ', '_').replace('.','_')\n    df.rename(columns={col:colx},inplace=True)\n    \npyreadstat.write_sav(df, 'F:/WDI Working Files/'+key_out)"
        },
        {
            "cell_type": "code",
            "execution_count": null,
            "metadata": {},
            "outputs": [],
            "source": ""
        },
        {
            "cell_type": "code",
            "execution_count": 6,
            "metadata": {},
            "outputs": [
                {
                    "name": "stdout",
                    "output_type": "stream",
                    "text": "WDI agriculture-and-rural-development.xls\nWDI aid-effectiveness.xls\nWDI climate-change.xls\nWDI economy-and-growth.xls\nWDI education.xls\nWDI energy-and-mining.xls\nWDI environment.xls\nWDI external-debt.xls\nWDI financial-sector.xls\nWDI gender.xls\nWDI health.xls\nWDI infrastructure.xls\nWDI poverty.xls\nWDI private-sector.xls\nWDI public-sector.xls\nWDI science-and-technology.xls\nWDI social-development.xls\nWDI social-protection-and-labor.xls\nWDI trade.xls\nWDI urban-development.xls\n(383838, 66)\n(551152, 67)\nnot assigned..\n['Firms visited or required meetings with tax officials (% of firms)'\n 'Net ODA provided to the least developed countries (% of GNI)'\n 'Net ODA provided, to the least developed countries (current US$)'\n 'Net ODA provided, total (% of GNI)'\n 'Net ODA provided, total (constant 2015 US$)'\n 'Net ODA provided, total (current US$)']\n"
                },
                {
                    "data": {
                        "text/html": "<div>\n<style scoped>\n    .dataframe tbody tr th:only-of-type {\n        vertical-align: middle;\n    }\n\n    .dataframe tbody tr th {\n        vertical-align: top;\n    }\n\n    .dataframe thead th {\n        text-align: right;\n    }\n</style>\n<table border=\"1\" class=\"dataframe\">\n  <thead>\n    <tr style=\"text-align: right;\">\n      <th></th>\n      <th>Category</th>\n    </tr>\n    <tr>\n      <th>Indicator Code</th>\n      <th></th>\n    </tr>\n  </thead>\n  <tbody>\n    <tr>\n      <th>SE.ENR.PRSC.FM.ZS</th>\n      <td>5</td>\n    </tr>\n    <tr>\n      <th>SL.UEM.TOTL.MA.ZS</th>\n      <td>4</td>\n    </tr>\n    <tr>\n      <th>SL.UEM.TOTL.FE.ZS</th>\n      <td>4</td>\n    </tr>\n  </tbody>\n</table>\n</div>",
                        "text/plain": "                   Category\nIndicator Code             \nSE.ENR.PRSC.FM.ZS         5\nSL.UEM.TOTL.MA.ZS         4\nSL.UEM.TOTL.FE.ZS         4"
                    },
                    "execution_count": 6,
                    "metadata": {},
                    "output_type": "execute_result"
                }
            ],
            "source": "# Updating with categories\n# Source of categories: https://data.worldbank.org/indicator?tab=all (via developer tool)\n\nkey_in = 'WDI_csv.zip'\nzf = zipfile.ZipFile('F:WDI Working Files/'+key_in)\ndf0 = pd.read_csv(zf.open('WDIData.csv'))\n\narqs = os.listdir('F:WDI Working Files/WDI Categories')\n\nrelations = []\nfor arq in arqs:\n    if arq.startswith(\"WDI\"):\n        print(arq)\n        df1=pd.read_excel('F:WDI Working Files/WDI Categories/'+arq, sheet_name='Data', skiprows=3)\n        try:\n            df2=pd.read_excel(arq, sheet_name='Data (2)')\n            df1=pd.concat([df1,df2],axis=0)\n        except: pass\n        df1.drop_duplicates(subset=['Indicator Code'], inplace=True)\n        for i in range(df1.shape[0]):\n            relations.append([arq, df1.iloc[i]['Indicator Code']])\n            \ndf_rel = pd.DataFrame(relations, columns=['Category','Indicator Code'])\n\ndf_rel['Category'] = df_rel['Category'].apply(lambda x: x.replace('WDI ','').replace('.xls',''))\n\nprint(df0.shape)\ndfm = df0.merge(df_rel, how='left', on='Indicator Code')\nprint(dfm.shape)\n\nnot_assigned = dfm[dfm['Category'].isna()]['Indicator Name'].unique()\nprint('not assigned..')\nprint(not_assigned)\n\n#these not assigned indicators will be assigned to 'private-sector'\ndfm['Category'] = dfm[['Category','Indicator Name']].apply(lambda r: 'private-sector' \n                                                           if r['Indicator Name'] in not_assigned \n                                                           else r['Category'], axis=1)\n\nyrs = [x for x in dfm.columns if x.isnumeric()]\ndfm = dfm[['Country Name','Country Code','Indicator Name','Indicator Code', 'Category'] + yrs]\ndfm.to_csv('F:/WDI Working Files/WDI_plus_category.csv.gz', compression='gzip')\n\n#uma categoria pode estar associada a mais de um indicador\ndf_rel.groupby(by=['Indicator Code']).nunique().sort_values(by=['Category'],ascending=False)[:3]"
        },
        {
            "cell_type": "code",
            "execution_count": 64,
            "metadata": {},
            "outputs": [],
            "source": "# Salvando arquivo para virar tabela no sqlquery\n\ndf = pd.read_csv('F:/WDI Working Files/WDI-treated-step6 Kmeans General.csv')"
        },
        {
            "cell_type": "code",
            "execution_count": 66,
            "metadata": {},
            "outputs": [],
            "source": "# Remove spaces from column names and save as parquet\n\ndf.drop(columns={'Unnamed: 0'},inplace=True)\n\ndef remove_space_from_cols_names(df):\n    rens = dict()\n    for col in df.columns:\n        col1 = col.lower() #lowercase\n        col2 = col1.replace(\" \", \"_\") #remove espa\u00e7o\n        col3 = unidecode.unidecode(col2) #remove acento\n        rens.update({col:col2})\n    return df.rename(columns=rens)\n\ndf = remove_space_from_cols_names(df)\ndf.rename(columns={'_clusterkm':'cluster_km_general'}, inplace=True)\ndf.to_parquet('F:/WDI Working Files/wdi_clusterkm_general.parquet', index=False)"
        },
        {
            "cell_type": "code",
            "execution_count": 10,
            "metadata": {},
            "outputs": [],
            "source": "## Generating Countries List Codes to be used in Cognos as dimension\n\nimport requests\nimport pandas as pd\n\nurl = 'https://www.iban.com/country-codes'\nhtml = requests.get(url).content\ndf_list = pd.read_html(html)\ndf = df_list[-1]\ndf.to_excel('F:/WDI Working Files/country_codes_iban.xlsx')"
        }
    ],
    "metadata": {
        "kernelspec": {
            "display_name": "Python 3.9",
            "language": "python",
            "name": "python3"
        },
        "language_info": {
            "codemirror_mode": {
                "name": "ipython",
                "version": 3
            },
            "file_extension": ".py",
            "mimetype": "text/x-python",
            "name": "python",
            "nbconvert_exporter": "python",
            "pygments_lexer": "ipython3",
            "version": "3.9.7"
        }
    },
    "nbformat": 4,
    "nbformat_minor": 1
}