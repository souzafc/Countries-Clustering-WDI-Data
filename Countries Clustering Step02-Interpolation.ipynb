{
    "cells": [
        {
            "cell_type": "markdown",
            "metadata": {},
            "source": "World Development Indicators - worldbank.org <br/>\nFabio Cardoso - Dec/2021 <br/><br/>\n\nDatasets: <br/><br/>\n\nCountry Indicators: <br/>\nhttps://datacatalog.worldbank.org/search/dataset/0037712/World-Development-Indicators <br/>\nNote: dataset updated with the topics presented in https://data.worldbank.org/indicator?tab=all - Utils notebook. <br/><br/>\n\nCountry Codes ISO 3166: <br/>\nhttps://www.iban.com/country-codes <br/><br/>\n\nNote: <br/>\nFor some orphans indicators, the topic 'private-sector' was assumed - Utils notebook. <br/>\n. Firms visited or required meetings with tax officials (% of firms) <br/>\n. Net ODA provided to the least developed countries (% of GNI) <br/>\n. Net ODA provided, to the least developed countries (current US )\u2212\ud835\udc41\ud835\udc52\ud835\udc61\ud835\udc42\ud835\udc37\ud835\udc34\ud835\udc5d\ud835\udc5f\ud835\udc5c\ud835\udc63\ud835\udc56\ud835\udc51\ud835\udc52\ud835\udc51,\ud835\udc61\ud835\udc5c\ud835\udc61\ud835\udc4e\ud835\udc59(\u2212\ud835\udc41\ud835\udc52\ud835\udc61\ud835\udc42\ud835\udc37\ud835\udc34\ud835\udc5d\ud835\udc5f\ud835\udc5c\ud835\udc63\ud835\udc56\ud835\udc51\ud835\udc52\ud835\udc51,\ud835\udc61\ud835\udc5c\ud835\udc61\ud835\udc4e\ud835\udc59(\ud835\udc50\ud835\udc5c\ud835\udc5b\ud835\udc60\ud835\udc61\ud835\udc4e\ud835\udc5b\ud835\udc612015\ud835\udc48\ud835\udc46) <br/>\n. Net ODA provided, total (current US$)"
        },
        {
            "cell_type": "code",
            "execution_count": 1,
            "metadata": {},
            "outputs": [],
            "source": "# Parameters\n\ncloud = True"
        },
        {
            "cell_type": "code",
            "execution_count": 2,
            "metadata": {},
            "outputs": [],
            "source": "# Imports \n\nimport pandas as pd\nimport numpy as np\nimport zipfile\nimport matplotlib.pyplot as plt\nimport zlib\nimport pickle\nfrom threading import Thread\nfrom multiprocessing import Pool\nimport time\nfrom datetime import datetime"
        },
        {
            "cell_type": "code",
            "execution_count": 3,
            "metadata": {},
            "outputs": [],
            "source": "# The code was removed by Watson Studio for sharing."
        },
        {
            "cell_type": "code",
            "execution_count": 4,
            "metadata": {},
            "outputs": [],
            "source": "# Storage instantiation\n\nif cloud:\n    import types\n    import pandas as pd\n    import ibm_boto3\n    from botocore.client import Config\n\n    def __iter__(self): return 0\n\n    cnx_fcsinsights = ibm_boto3.client(\n        service_name = 's3',\n        ibm_api_key_id = parm_ibm_api_key_id,\n        ibm_service_instance_id = parm_ibm_service_instance_id,\n        ibm_auth_endpoint = parm_ibm_auth_endpoint,\n        config = Config(signature_version='oauth'),\n        endpoint_url = parm_endpoint_url\n    )\n\nbkt1_in = parm_bkt1_in\nbkt2_in = parm_bkt2_in\nbkt_out = parm_bkt_out\n\nkey1_in='WDI treated-step1.csv.gz'\nkey2_in='country_codes_iban.xlsx'\nkey3_in='WDI_plus_category.csv.gz'\nkey_out = 'WDI treated-step2.csv.gz'"
        },
        {
            "cell_type": "code",
            "execution_count": null,
            "metadata": {},
            "outputs": [],
            "source": "# Read data\n\nif cloud:\n    cnx_fcsinsights.download_file(Bucket=bkt1_in, Key=key1_in, Filename=key1_in)\n    cnx_fcsinsights.download_file(Bucket=bkt2_in, Key=key2_in, Filename=key2_in)\n    cnx_fcsinsights.download_file(Bucket=bkt2_in, Key=key3_in, Filename=key3_in)\n    df = pd.read_csv(key1_in, compression='gzip')\n    df_country_codes_iban = pd.read_excel(key2_in)\n    df_code_names = pd.read_csv(key3_in, compression='gzip')\nelse:\n    df = pd.read_csv('F:/WDI Working Files/'+key1_in, compression='gzip')\n    df_country_codes_iban = pd.read_excel('F:/WDI Working Files/'+key2_in)\n    df_code_names = pd.read_csv('F:WDI Working Files/'+key3_in, compression='gzip')"
        },
        {
            "cell_type": "code",
            "execution_count": 5,
            "metadata": {},
            "outputs": [
                {
                    "name": "stdout",
                    "output_type": "stream",
                    "text": "Excluindo...\n0                               Africa Eastern and Southern\n2072                             Africa Western and Central\n4144                                             Arab World\n6216                                 Caribbean small states\n8288                         Central Europe and the Baltics\n10360                            Early-demographic dividend\n12432                                   East Asia & Pacific\n14504           East Asia & Pacific (excluding high income)\n16576            East Asia & Pacific (IDA & IBRD countries)\n18648                                             Euro area\n20720                                 Europe & Central Asia\n22792         Europe & Central Asia (excluding high income)\n24864          Europe & Central Asia (IDA & IBRD countries)\n26936                                        European Union\n29008              Fragile and conflict affected situations\n31080                Heavily indebted poor countries (HIPC)\n33152                                           High income\n35224                                             IBRD only\n37296                                      IDA & IBRD total\n39368                                             IDA blend\n41440                                              IDA only\n43512                                             IDA total\n45584                             Late-demographic dividend\n47656                             Latin America & Caribbean\n49728     Latin America & Caribbean (excluding high income)\n51800     Latin America & the Caribbean (IDA & IBRD coun...\n53872          Least developed countries: UN classification\n55944                                   Low & middle income\n58016                                            Low income\n60088                                   Lower middle income\n62160                            Middle East & North Africa\n64232     Middle East & North Africa (excluding high inc...\n66304     Middle East & North Africa (IDA & IBRD countries)\n68376                                         Middle income\n70448                                         North America\n72520                                        Not classified\n74592                                          OECD members\n76664                                    Other small states\n78736                           Pacific island small states\n80808                             Post-demographic dividend\n82880                              Pre-demographic dividend\n84952                                          Small states\n87024                                            South Asia\n89096                               South Asia (IDA & IBRD)\n91168                                    Sub-Saharan Africa\n93240            Sub-Saharan Africa (excluding high income)\n95312             Sub-Saharan Africa (IDA & IBRD countries)\n97384                                   Upper middle income\n99456                                                 World\n182336                                      Channel Islands\n319088                                               Kosovo\nName: Country Name, dtype: object\nShape before exclusion (33620272, 5)\nShape after exclusion (27174280, 5)\n"
                }
            ],
            "source": "# Remove codes that are not countries according to IBAN website\n\ncountry_codes_iban = df_country_codes_iban['Alpha-3 code'].unique()\ndf_code_names = df_code_names.drop_duplicates(subset=['Country Name','Country Code'])\nnot_countries = df_code_names[~df_code_names['Country Code'].isin(country_codes_iban)]['Country Name']\nprint(\"Excluindo...\")\nprint(not_countries)\nprint('Shape before exclusion', df.shape)\ndf = df[df['Country Code'].isin(country_codes_iban)].copy()\nprint('Shape after exclusion', df.shape)"
        },
        {
            "cell_type": "code",
            "execution_count": 6,
            "metadata": {},
            "outputs": [
                {
                    "data": {
                        "text/plain": "310245"
                    },
                    "execution_count": 6,
                    "metadata": {},
                    "output_type": "execute_result"
                }
            ],
            "source": "# Combina\u00e7\u00f5es\n\ndf['Country Code'].nunique() * df['Indicator Code'].nunique()"
        },
        {
            "cell_type": "code",
            "execution_count": 7,
            "metadata": {},
            "outputs": [],
            "source": "# Interpolation worker\n# Obs: A potential issue of this approach is that some metrics can not make much sense in the interpolated period, like HIV for instance.\n\npy = \"\"\"import numpy as np\nimport pandas as pd\nimport zlib\nimport pickle\n\ndef interpolation(params):\n\n    cont = 0\n    part = params.get('part')\n    \n    f = open('thread_'+str(part)+'.txt', mode='w')\n    f.write(str(part)+' '+str(cont))\n    f.close()\n                \n    df_part = pickle.loads(zlib.decompress(params.get('dfz_part')))\n    \n    for country_code in df_part['Country Code'].unique():\n    \n        df_country = df_part[df_part['Country Code']==country_code]\n        \n        for indicator_code in df_country['Indicator Code'].unique():\n\n            df_indicator = df_country[(df_country['Indicator Code']==indicator_code)]\n\n            df_indicator = df_indicator.\\\n                interpolate(method='linear').fillna(method='ffill').fillna(method='bfill')\n\n            ixs = df_indicator.index\n            \n            df_part.at[ixs, 'Value'] = df_indicator['Value'].values\n                \n            cont+=1\n            if cont%25==0:\n                f = open('thread_'+str(part)+'.txt', mode='w')\n                f.write(str(part)+' '+str(cont))\n                f.close()\n                \n    dfz_part = zlib.compress(pickle.dumps(df_part))\n    del df_part\n    return dfz_part\"\"\"\n\nf = open('interpolation3.py', mode='w',encoding='utf8')\nf.write(py)\nf.close()\nimport interpolation3"
        },
        {
            "cell_type": "code",
            "execution_count": 8,
            "metadata": {},
            "outputs": [],
            "source": "# Compressing parts\n\ndf = df.reset_index().drop(columns=['index'])\ndfz_part1 = zlib.compress(pickle.dumps(df.query(\"Part==1\")))\ndfz_part2 = zlib.compress(pickle.dumps(df.query(\"Part==2\")))\ndfz_part3 = zlib.compress(pickle.dumps(df.query(\"Part==3\")))\ndfz_part4 = zlib.compress(pickle.dumps(df.query(\"Part==4\")))"
        },
        {
            "cell_type": "code",
            "execution_count": 9,
            "metadata": {},
            "outputs": [
                {
                    "name": "stdout",
                    "output_type": "stream",
                    "text": "acionando thread de processors\n"
                }
            ],
            "source": "# Parallel processing\n\np = Pool(processes = 4)\n\nlst_params = []\nlst_params.append({'part':1, 'dfz_part':dfz_part1})\nlst_params.append({'part':2, 'dfz_part':dfz_part2})\nlst_params.append({'part':3, 'dfz_part':dfz_part3})\nlst_params.append({'part':4, 'dfz_part':dfz_part4})\n\ndef thread_unica(parm, lst_params):\n    \n    print('acionando thread de processors')\n    ret = p.map(interpolation3.interpolation, lst_params)\n    parm.append(ret)\n\nparm = []\nthread = Thread(target=thread_unica, args=(parm, lst_params))\nthread.start()"
        },
        {
            "cell_type": "code",
            "execution_count": 10,
            "metadata": {},
            "outputs": [
                {
                    "name": "stdout",
                    "output_type": "stream",
                    "text": "1 700\n2 700\n3 675\n4 700\n\n1 1500\n2 1500\n3 1475\n4 1475\n\n1 2325\n2 2325\n3 2275\n4 2300\n\n1 3125\n2 3100\n3 3075\n4 3075\n\n1 3950\n2 3925\n3 3875\n4 3900\n\n1 4775\n2 4725\n3 4675\n4 4675\n\n1 5600\n2 5575\n3 5500\n4 5500\n\n1 6400\n2 6375\n3 6300\n4 6300\n\n1 7225\n2 7225\n3 7100\n4 7125\n\n1 8025\n2 8000\n3 7875\n4 7875\n\n1 8850\n2 8825\n3 8650\n4 8675\n\n1 9650\n2 9650\n3 9450\n4 9475\n\n1 10475\n2 10475\n3 10275\n4 10300\n\n1 11300\n2 11275\n3 11075\n4 11100\n\n1 12125\n2 12100\n3 11900\n4 11925\n\n1 12950\n2 12925\n3 12675\n4 12725\n\n1 13775\n2 13750\n3 13475\n4 13550\n\n1 14575\n2 14550\n3 14275\n4 14350\n\n1 15400\n2 15400\n3 15100\n4 15150\n\n1 16200\n2 16175\n3 15875\n4 15925\n\n1 17025\n2 16975\n3 16675\n4 16750\n\n1 17850\n2 17800\n3 17500\n4 17550\n\n1 18700\n2 18625\n3 18300\n4 18375\n\n1 19500\n2 19450\n3 19100\n4 19175\n\n1 20325\n2 20275\n3 19925\n4 20000\n\n1 21150\n2 21075\n3 20725\n4 20800\n\n1 22000\n2 21900\n3 21550\n4 21625\n\n1 22800\n2 22725\n3 22325\n4 22400\n\n1 23625\n2 23525\n3 23150\n4 23225\n\n1 24450\n2 24325\n3 23925\n4 24000\n\n1 25250\n2 25150\n3 24750\n4 24825\n\n1 26050\n2 25950\n3 25550\n4 25600\n\n1 26900\n2 26775\n3 26350\n4 26425\n\n1 27700\n2 27575\n3 27150\n4 27225\n\n1 28525\n2 28425\n3 27975\n4 28075\n\n1 29325\n2 29225\n3 28775\n4 28875\n\n1 30150\n2 30075\n3 29575\n4 29700\n\n1 30975\n2 30875\n3 30350\n4 30500\n\n1 31775\n2 31675\n3 31150\n4 31300\n\n1 32575\n2 32450\n3 31950\n4 32100\n\n1 33400\n2 33275\n3 32750\n4 32900\n\n1 34200\n2 34075\n3 33550\n4 33675\n\n1 35000\n2 34875\n3 34350\n4 34475\n\n1 35825\n2 35700\n3 35150\n4 35275\n\n1 36675\n2 36525\n3 35975\n4 36075\n\n1 37475\n2 37350\n3 36775\n4 36875\n\n1 38300\n2 38175\n3 37575\n4 37675\n\n1 39100\n2 38975\n3 38375\n4 38450\n\n1 39925\n2 39800\n3 39175\n4 39275\n\n1 40700\n2 40600\n3 39975\n4 40050\n\n1 41500\n2 41425\n3 40775\n4 40875\n\n1 42325\n2 42200\n3 41575\n4 41650\n\n1 43125\n2 43025\n3 42375\n4 42475\n\n1 43950\n2 43850\n3 43150\n4 43275\n\n1 44750\n2 44675\n3 43975\n4 44125\n\n1 45575\n2 45475\n3 44750\n4 44925\n\n1 46400\n2 46275\n3 45550\n4 45725\n\n1 47225\n2 47075\n3 46350\n4 46525\n\n1 48025\n2 47900\n3 47150\n4 47350\n\n1 48825\n2 48700\n3 47925\n4 48125\n\n1 49650\n2 49500\n3 48750\n4 48950\n\n1 50450\n2 50325\n3 49550\n4 49775\n\n1 51250\n2 51150\n3 50350\n4 50575\n\n1 52075\n2 51925\n3 51150\n4 51375\n\n1 52925\n2 52750\n3 51925\n4 52175\n\n1 53725\n2 53575\n3 52750\n4 53000\n\n1 54525\n2 54375\n3 53550\n4 53800\n\n1 55325\n2 55175\n3 54350\n4 54625\n\n1 56150\n2 56000\n3 55175\n4 55450\n\n1 56950\n2 56775\n3 55925\n4 56225\n\n1 57775\n2 57600\n3 56725\n4 57025\n\n1 58575\n2 58400\n3 57525\n4 57825\n\n1 59425\n2 59225\n3 58325\n4 58650\n\n1 60250\n2 60050\n3 59125\n4 59475\n\n1 61075\n2 60850\n3 59925\n4 60300\n\n1 61900\n2 61675\n3 60750\n4 61125\n\n1 62725\n2 62500\n3 61550\n4 61950\n\n1 63525\n2 63300\n3 62375\n4 62775\n\n1 64350\n2 64125\n3 63175\n4 63625\n\n1 65150\n2 64925\n3 63975\n4 64425\n\n1 65950\n2 65750\n3 64775\n4 65250\n\n1 66775\n2 66575\n3 65575\n4 66075\n\n1 67600\n2 67400\n3 66375\n4 66900\n\n1 68400\n2 68200\n3 67175\n4 67700\n\n1 69225\n2 69000\n3 67975\n4 68525\n\n1 70000\n2 69825\n3 68800\n4 69325\n\n1 70825\n2 70625\n3 69600\n4 70150\n\n1 71625\n2 71425\n3 70375\n4 70950\n\n1 72425\n2 72225\n3 71175\n4 71775\n\n1 73200\n2 73025\n3 71950\n4 72550\n\n1 73975\n2 73825\n3 72750\n4 73375\n\n1 74800\n2 74625\n3 73550\n4 74175\n\n1 75625\n2 75425\n3 74325\n4 75000\n\n1 76425\n2 76250\n3 75125\n4 75800\n\n1 77225\n2 77050\n3 75925\n4 76600\n\n1 77550\n2 77550\n3 76750\n4 77425\n\n1 77550\n2 77550\n3 77550\n4 77550\n\n1 77550\n2 77550\n3 77550\n4 77550\n"
                }
            ],
            "source": "# Following the processing\n\ns1_ant = s2_ant = s3_ant = s4_ant = -1\ns1 = s2 = s3 = s4 = -1\n\nfrozen=False\ntime.sleep(30)\nwhile not frozen:\n    \n    try:\n        f1=open('thread_1.txt',mode='r')\n        s1=f1.read()\n        f1.close()\n    except: pass\n    print(s1)\n    \n    try:\n        f2=open('thread_2.txt',mode='r')\n        s2=f2.read()\n        f2.close()\n    except: pass\n    print(s2)\n    \n    try:\n        f3=open('thread_3.txt',mode='r')\n        s3=f3.read()\n        f3.close()\n    except: pass    \n    print(s3)\n    \n    try:\n        f4=open('thread_4.txt',mode='r')\n        s4=f4.read()\n        f4.close()\n    except: pass    \n    print(s4)\n    \n    if s1==s1_ant and s2==s2_ant and s3==s3_ant and s4==s4_ant:\n        frozen=True\n        break\n    print()\n    \n    s1_ant = s1\n    s2_ant = s2\n    s3_ant = s3\n    s4_ant = s4\n    \n    time.sleep(30)"
        },
        {
            "cell_type": "code",
            "execution_count": 11,
            "metadata": {},
            "outputs": [
                {
                    "name": "stdout",
                    "output_type": "stream",
                    "text": "ok\n"
                }
            ],
            "source": "# Consolidating results\n\nfor i in range(4):\n    parm[0][i] = pickle.loads(zlib.decompress(parm[0][i]))\n\ndf = pd.concat([parm[0][0], parm[0][1], parm[0][2], parm[0][3]], axis=0)\nprint(\"ok\")"
        },
        {
            "cell_type": "code",
            "execution_count": 12,
            "metadata": {},
            "outputs": [
                {
                    "name": "stdout",
                    "output_type": "stream",
                    "text": "(27174280, 5)\n(21179322, 5)\n"
                }
            ],
            "source": "# Dropping null series\n\nprint(df.shape)\ndf.dropna(inplace=True)\nprint(df.shape)"
        },
        {
            "cell_type": "code",
            "execution_count": 13,
            "metadata": {},
            "outputs": [],
            "source": "# Save intermediate result\n\nif cloud:\n    df.to_csv(key_out, compression='gzip', index=False)\n    cnx_fcsinsights.upload_file(Bucket=bkt_out, Key=key_out, Filename=key_out)\nelse:\n    df.to_csv('F:/WDI Working Files/'+key_out, compression='gzip', index=False)"
        },
        {
            "cell_type": "code",
            "execution_count": 14,
            "metadata": {},
            "outputs": [
                {
                    "name": "stdout",
                    "output_type": "stream",
                    "text": "ok\n"
                }
            ],
            "source": "print('ok')"
        }
    ],
    "metadata": {
        "kernelspec": {
            "display_name": "Python 3.9",
            "language": "python",
            "name": "python3"
        },
        "language_info": {
            "codemirror_mode": {
                "name": "ipython",
                "version": 3
            },
            "file_extension": ".py",
            "mimetype": "text/x-python",
            "name": "python",
            "nbconvert_exporter": "python",
            "pygments_lexer": "ipython3",
            "version": "3.9.7"
        }
    },
    "nbformat": 4,
    "nbformat_minor": 1
}